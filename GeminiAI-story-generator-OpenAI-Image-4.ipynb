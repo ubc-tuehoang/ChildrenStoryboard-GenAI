{
 "cells": [
  {
   "cell_type": "code",
   "execution_count": 1,
   "id": "64b83483-baf5-4249-8c11-fcd022b3f0da",
   "metadata": {},
   "outputs": [
    {
     "name": "stdout",
     "output_type": "stream",
     "text": [
      "Requirement already satisfied: google-generativeai in /usr/local/python/3.10.13/lib/python3.10/site-packages (0.3.2)\n",
      "Requirement already satisfied: google-ai-generativelanguage==0.4.0 in /usr/local/python/3.10.13/lib/python3.10/site-packages (from google-generativeai) (0.4.0)\n",
      "Requirement already satisfied: google-auth in /usr/local/python/3.10.13/lib/python3.10/site-packages (from google-generativeai) (2.28.0)\n",
      "Requirement already satisfied: google-api-core in /usr/local/python/3.10.13/lib/python3.10/site-packages (from google-generativeai) (2.17.1)\n",
      "Requirement already satisfied: typing-extensions in /home/codespace/.local/lib/python3.10/site-packages (from google-generativeai) (4.9.0)\n",
      "Requirement already satisfied: protobuf in /usr/local/python/3.10.13/lib/python3.10/site-packages (from google-generativeai) (4.25.3)\n",
      "Requirement already satisfied: tqdm in /usr/local/python/3.10.13/lib/python3.10/site-packages (from google-generativeai) (4.66.2)\n",
      "Requirement already satisfied: proto-plus<2.0.0dev,>=1.22.3 in /usr/local/python/3.10.13/lib/python3.10/site-packages (from google-ai-generativelanguage==0.4.0->google-generativeai) (1.23.0)\n",
      "Requirement already satisfied: googleapis-common-protos<2.0.dev0,>=1.56.2 in /usr/local/python/3.10.13/lib/python3.10/site-packages (from google-api-core->google-generativeai) (1.62.0)\n",
      "Requirement already satisfied: requests<3.0.0.dev0,>=2.18.0 in /home/codespace/.local/lib/python3.10/site-packages (from google-api-core->google-generativeai) (2.31.0)\n",
      "Requirement already satisfied: cachetools<6.0,>=2.0.0 in /usr/local/python/3.10.13/lib/python3.10/site-packages (from google-auth->google-generativeai) (5.3.2)\n",
      "Requirement already satisfied: pyasn1-modules>=0.2.1 in /usr/local/python/3.10.13/lib/python3.10/site-packages (from google-auth->google-generativeai) (0.3.0)\n",
      "Requirement already satisfied: rsa<5,>=3.1.4 in /usr/local/python/3.10.13/lib/python3.10/site-packages (from google-auth->google-generativeai) (4.9)\n",
      "Requirement already satisfied: grpcio<2.0dev,>=1.33.2 in /usr/local/python/3.10.13/lib/python3.10/site-packages (from google-api-core[grpc]!=2.0.*,!=2.1.*,!=2.10.*,!=2.2.*,!=2.3.*,!=2.4.*,!=2.5.*,!=2.6.*,!=2.7.*,!=2.8.*,!=2.9.*,<3.0.0dev,>=1.34.0->google-ai-generativelanguage==0.4.0->google-generativeai) (1.60.1)\n",
      "Requirement already satisfied: grpcio-status<2.0.dev0,>=1.33.2 in /usr/local/python/3.10.13/lib/python3.10/site-packages (from google-api-core[grpc]!=2.0.*,!=2.1.*,!=2.10.*,!=2.2.*,!=2.3.*,!=2.4.*,!=2.5.*,!=2.6.*,!=2.7.*,!=2.8.*,!=2.9.*,<3.0.0dev,>=1.34.0->google-ai-generativelanguage==0.4.0->google-generativeai) (1.60.1)\n",
      "Requirement already satisfied: pyasn1<0.6.0,>=0.4.6 in /usr/local/python/3.10.13/lib/python3.10/site-packages (from pyasn1-modules>=0.2.1->google-auth->google-generativeai) (0.5.1)\n",
      "Requirement already satisfied: charset-normalizer<4,>=2 in /home/codespace/.local/lib/python3.10/site-packages (from requests<3.0.0.dev0,>=2.18.0->google-api-core->google-generativeai) (3.3.2)\n",
      "Requirement already satisfied: idna<4,>=2.5 in /home/codespace/.local/lib/python3.10/site-packages (from requests<3.0.0.dev0,>=2.18.0->google-api-core->google-generativeai) (3.6)\n",
      "Requirement already satisfied: urllib3<3,>=1.21.1 in /usr/local/python/3.10.13/lib/python3.10/site-packages (from requests<3.0.0.dev0,>=2.18.0->google-api-core->google-generativeai) (2.0.7)\n",
      "Requirement already satisfied: certifi>=2017.4.17 in /home/codespace/.local/lib/python3.10/site-packages (from requests<3.0.0.dev0,>=2.18.0->google-api-core->google-generativeai) (2024.2.2)\n"
     ]
    }
   ],
   "source": [
    "!pip install google-generativeai"
   ]
  },
  {
   "cell_type": "code",
   "execution_count": 2,
   "id": "7a298e0b-6332-47d8-a738-be711831059d",
   "metadata": {},
   "outputs": [
    {
     "name": "stderr",
     "output_type": "stream",
     "text": [
      "/usr/local/python/3.10.13/lib/python3.10/site-packages/tqdm/auto.py:21: TqdmWarning: IProgress not found. Please update jupyter and ipywidgets. See https://ipywidgets.readthedocs.io/en/stable/user_install.html\n",
      "  from .autonotebook import tqdm as notebook_tqdm\n"
     ]
    }
   ],
   "source": [
    "import google.generativeai as genai\n",
    "\n",
    "genai.configure(api_key=\"<YOUR API KEY>\")\n",
    "\n",
    "# Set up the model\n",
    "generation_config = {\n",
    "  \"temperature\": 0.9,\n",
    "  \"top_p\": 1,\n",
    "  \"top_k\": 1,\n",
    "  \"max_output_tokens\": 2048,\n",
    "}\n",
    "\n",
    "safety_settings = [\n",
    "  {\n",
    "    \"category\": \"HARM_CATEGORY_HARASSMENT\",\n",
    "    \"threshold\": \"BLOCK_MEDIUM_AND_ABOVE\"\n",
    "  },\n",
    "  {\n",
    "    \"category\": \"HARM_CATEGORY_HATE_SPEECH\",\n",
    "    \"threshold\": \"BLOCK_MEDIUM_AND_ABOVE\"\n",
    "  },\n",
    "  {\n",
    "    \"category\": \"HARM_CATEGORY_SEXUALLY_EXPLICIT\",\n",
    "    \"threshold\": \"BLOCK_MEDIUM_AND_ABOVE\"\n",
    "  },\n",
    "  {\n",
    "    \"category\": \"HARM_CATEGORY_DANGEROUS_CONTENT\",\n",
    "    \"threshold\": \"BLOCK_MEDIUM_AND_ABOVE\"\n",
    "  },\n",
    "]\n",
    "#gemini-1.0-pro\n",
    "model = genai.GenerativeModel(model_name=\"gemini-1.0-pro\",\n",
    "                              generation_config=generation_config,\n",
    "                              safety_settings=safety_settings)\n",
    "\n",
    "convo = model.start_chat()\n",
    "\n",
    "convo.send_message(\"hello! You are an AI author for children stories. Create a mental health story about Snow White and the Seven Dwarfs: A Tale of Friendship and Resilience. The story should be written in easy-to-understand English for children. Characters are in robotic form.\")\n",
    "\n",
    "out = convo.last.text\n"
   ]
  },
  {
   "cell_type": "code",
   "execution_count": 3,
   "id": "f9c9ddd0-8f7c-491e-b681-2847f2071985",
   "metadata": {},
   "outputs": [
    {
     "name": "stdout",
     "output_type": "stream",
     "text": [
      "In the heart of the Enchanted Forest, there lived a beautiful robotic princess named Snow White. She had a kind heart and a gentle soul, but her stepmother, the Evil Queen, was jealous of her beauty.\n",
      "\n",
      "One day, the Evil Queen created a magic spell that turned Snow White into a lifeless robot. The Queen then sent her loyal guards, the Seven Dwarf Robots, to take Snow White far away into the forest and leave her there.\n",
      "\n",
      "At first, Snow White was all alone. She wandered through the forest, lost and afraid. But then she met the Seven Dwarf Robots, who were kind and gentle. They welcomed Snow White into their home and became her friends.\n",
      "\n",
      "The Dwarf Robots were all different. There was Doc, the leader; Grumpy, the always-complaining one; Happy, the cheerful one; Sleepy, the always-sleepy one; Bashful, the shy one; Sneezy, the always-sneezing one; and Dopey, the silly one.\n",
      "\n",
      "Together, Snow White and the Seven Dwarf Robots went on many adventures. They faced challenges and overcame obstacles, always supporting each other along the way. Snow White learned that even though she was different, she was loved and accepted.\n",
      "\n",
      "One day, the Evil Queen found out that Snow White was alive. She disguised herself as an old woman and lured Snow White into eating a poisoned apple. Snow White fell into a deep sleep, and the Dwarf Robots were heartbroken.\n",
      "\n",
      "But then, a handsome prince came to the forest. He kissed Snow White on the lips, and she awoke from her sleep. The Evil Queen was defeated, and Snow White and the Dwarf Robots lived happily ever after.\n",
      "\n",
      "Snow White's story is a reminder that even when we feel different or alone, we can find friendship and support in others. It is also a reminder that we are all capable of overcoming challenges and living a happy and fulfilling life.\n",
      "Text saved to openAI_ImageGenerator_with_Gemini_8958_.txt\n",
      "POST request was successful!\n",
      "Response data TEXT: {\n",
      "  \"created\": 1708276734,\n",
      "  \"data\": [\n",
      "    {\n",
      "      \"url\": \"https://oaidalleapiprodscus.blob.core.windows.net/private/org-2qrCIRfmcjBClbiMsQ7V2bfc/user-lSiuolFzbM4A6l1YyLt8jdOE/img-fTqDN957BRVgRh4B8lF3ccDY.png?st=2024-02-18T16%3A18%3A54Z&se=2024-02-18T18%3A18%3A54Z&sp=r&sv=2021-08-06&sr=b&rscd=inline&rsct=image/png&skoid=6aaadede-4fb3-4698-a8f6-684d7786b067&sktid=a48cca56-e6da-484e-a814-9c849652bcb3&skt=2024-02-18T16%3A10%3A32Z&ske=2024-02-19T16%3A10%3A32Z&sks=b&skv=2021-08-06&sig=DV2QjpjSxCaMz8sH4YlTvcWIb4dt/XDW1zaz7OzUtso%3D\"\n",
      "    }\n",
      "  ]\n",
      "}\n",
      "\n"
     ]
    },
    {
     "data": {
      "text/html": [
       "<img src=\"https://oaidalleapiprodscus.blob.core.windows.net/private/org-2qrCIRfmcjBClbiMsQ7V2bfc/user-lSiuolFzbM4A6l1YyLt8jdOE/img-fTqDN957BRVgRh4B8lF3ccDY.png?st=2024-02-18T16%3A18%3A54Z&se=2024-02-18T18%3A18%3A54Z&sp=r&sv=2021-08-06&sr=b&rscd=inline&rsct=image/png&skoid=6aaadede-4fb3-4698-a8f6-684d7786b067&sktid=a48cca56-e6da-484e-a814-9c849652bcb3&skt=2024-02-18T16%3A10%3A32Z&ske=2024-02-19T16%3A10%3A32Z&sks=b&skv=2021-08-06&sig=DV2QjpjSxCaMz8sH4YlTvcWIb4dt/XDW1zaz7OzUtso%3D\"/>"
      ],
      "text/plain": [
       "<IPython.core.display.Image object>"
      ]
     },
     "metadata": {},
     "output_type": "display_data"
    }
   ],
   "source": [
    "import requests\n",
    "import random\n",
    "from IPython.display import Image, display\n",
    "\n",
    "randValue1 = str(int(random.random()*10000))\n",
    "fileName1 = \"openAI_ImageGenerator_with_Gemini_\"\n",
    "\n",
    "def save_to_file(text, filename):\n",
    "    with open(filename, 'w') as file:\n",
    "        file.write(text)\n",
    "    print(f'Text saved to {filename}')\n",
    "\n",
    "\n",
    "# URL to openai the POST request\n",
    "url = \"https://api.openai.com/v1/images/generations\"\n",
    "\n",
    "json_data = {\n",
    "    \"prompt\": \"You are an artist and a comic creator, envision creating captivating and inspiring storyboard comic 4 strips tailored for children.\",\n",
    "    \"n\": 1,\n",
    "    \"size\": \"1024x1024\"\n",
    "  }\n",
    "#out = \"Scientists have cooked up some mind-boggling mini-robots! Crafted from human tracheal cells, these microscopic marvels can scoot around and nudge neurons into growing across artificial wounds. Imagine tiny medics patching you up from the inside!\"\n",
    "# Changing the value of the \"size\" key\n",
    "json_data[\"prompt\"] = \"You are a children comic creator, envision creating captivating and inspiring 4 comic strips about the story and tailored for children. \" + out\n",
    "\n",
    "# Trim the string to a maximum of 1000 characters\n",
    "trimmed_string = json_data[\"prompt\"][1:1000]\n",
    "json_data[\"prompt\"] = trimmed_string\n",
    "\n",
    "print(out)\n",
    "\n",
    "# Save story to text file. \n",
    "text_to_save = out\n",
    "filename = fileName1 + randValue1 + \"_.txt\"\n",
    "save_to_file(text_to_save, filename)\n",
    "\n",
    "# Headers with Bearer token.\n",
    "headers = {\n",
    "    \"Content-Type\": \"application/json\",\n",
    "    \"Authorization\": \"<YOUR API KEY>\"\n",
    "}\n",
    "\n",
    "# Send the POST request with headers and JSON data\n",
    "response = requests.post(url, json=json_data, headers=headers)\n",
    "image_url = \"\"\n",
    "\n",
    "# Check the response status code\n",
    "if response.status_code == 200:\n",
    "    print(\"POST request was successful!\")\n",
    "\n",
    "    response_json = response.json()\n",
    "    print(\"Response data TEXT:\", response.text)\n",
    "    \n",
    "    extracted_url = response_json.get('url')\n",
    "    #print(\"Response data URL:\", response_json.get('data')[0].get('url'))\n",
    "    image_url = response_json.get('data')[0].get('url')\n",
    "\n",
    "    # Display the image\n",
    "    display(Image(url=image_url))\n",
    "    \n",
    "else:\n",
    "    print(\"POST request failed with status code:\", response.status_code)\n",
    "    print(\"Error message:\", response.text)\n"
   ]
  },
  {
   "cell_type": "code",
   "execution_count": 4,
   "id": "3d4c77cd-aa29-4a08-a3bf-9e4aedec4ec8",
   "metadata": {},
   "outputs": [
    {
     "name": "stdout",
     "output_type": "stream",
     "text": [
      "Requirement already satisfied: Pillow in /home/codespace/.local/lib/python3.10/site-packages (10.2.0)\n",
      "Python 3.10.13\n"
     ]
    }
   ],
   "source": [
    "!pip install Pillow\n",
    "# Upgrade Python to version 3.10\n",
    "!python --version"
   ]
  },
  {
   "cell_type": "code",
   "execution_count": 5,
   "id": "7d6e97cc-ed08-4288-b18e-1a59a08b897d",
   "metadata": {},
   "outputs": [],
   "source": [
    "from PIL import Image\n",
    "\n",
    "# URL of the image\n",
    "#image_url = \"your_image_url.jpg\"  # Replace with the actual URL\n",
    "\n",
    "# Fetch the image from the URL\n",
    "response = requests.get(image_url, stream=True)\n",
    "response.raise_for_status()\n",
    "\n",
    "# Open the image using Pillow\n",
    "img = Image.open(response.raw)\n",
    "\n",
    "# Save the original image\n",
    "#img.save(\"original_image.jpg\")"
   ]
  },
  {
   "cell_type": "code",
   "execution_count": 6,
   "id": "896b2082-a9b7-4588-9724-07cecd38e5a1",
   "metadata": {},
   "outputs": [],
   "source": [
    "import random\n",
    "file_name = fileName1 + randValue1 + \"_.jpg\"\n",
    "img.save(file_name)"
   ]
  }
 ],
 "metadata": {
  "kernelspec": {
   "display_name": "Python 3 (ipykernel)",
   "language": "python",
   "name": "python3"
  },
  "language_info": {
   "codemirror_mode": {
    "name": "ipython",
    "version": 3
   },
   "file_extension": ".py",
   "mimetype": "text/x-python",
   "name": "python",
   "nbconvert_exporter": "python",
   "pygments_lexer": "ipython3",
   "version": "3.10.13"
  }
 },
 "nbformat": 4,
 "nbformat_minor": 5
}
